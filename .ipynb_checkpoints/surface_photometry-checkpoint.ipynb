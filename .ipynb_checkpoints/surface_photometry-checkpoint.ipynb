{
 "cells": [
  {
   "cell_type": "markdown",
   "metadata": {},
   "source": [
    "# Doing quick surface photometry of a galaxy given its coordinates"
   ]
  },
  {
   "cell_type": "markdown",
   "metadata": {},
   "source": [
    "Owners: **Aaron Watkins, Nushkia Chamba**  \n",
    "Last Verified to Run: **15 July 2020**  \n",
    "Verified Stack release: **20.0.0+7**"
   ]
  },
  {
   "cell_type": "markdown",
   "metadata": {},
   "source": [
    "### Objectives: \n",
    "\n",
    "This worksheet is a demonstration of how to do the following:\n",
    "1. Locate a specific object from available databases in the Stack using its right ascension and declination coordinates\n",
    "2. Obtain a thumbnail of the object for image analysis\n",
    "3. Mask unwanted sources surrounding and overlapping the object using source detection footprints\n",
    "4. Do quick surface photometry of the object on the masked image, with a local background estimation\n",
    "\n",
    "The basic goal is to provide a demonstration of one way to perform one's own image analysis within the Stack, on present and future imaging data releases.  It can be used as a stepping off point for development of one's own software.\n",
    "\n",
    "NOTE: certain parts of this notebook require a session with Large (4 MB) memory.  The Scarlet deblending in particular will likely time out if you use a smaller session."
   ]
  },
  {
   "cell_type": "markdown",
   "metadata": {},
   "source": [
    "## **Initial Setup**"
   ]
  },
  {
   "cell_type": "code",
   "execution_count": null,
   "metadata": {},
   "outputs": [],
   "source": [
    "# What version of the Stack am I using?\n",
    "! echo $HOSTNAME\n",
    "! eups list lsst_distrib -s"
   ]
  },
  {
   "cell_type": "markdown",
   "metadata": {},
   "source": [
    "The following are the packages that are needed to run this notebook."
   ]
  },
  {
   "cell_type": "code",
   "execution_count": null,
   "metadata": {},
   "outputs": [],
   "source": [
    "from lsst.obs.hsc.hscMapper import HscMapper\n",
    "import lsst.daf.persistence as dafPersist\n",
    "from lsst.daf.persistence import Butler\n",
    "import lsst.afw.table as afwTable\n",
    "import lsst.afw.display as afwDisplay\n",
    "import lsst.afw.detection as afwDetection\n",
    "import lsst.geom as geom\n",
    "from lsst.afw.image import Exposure, Image, PARENT, MultibandExposure, MultibandImage\n",
    "\n",
    "import os\n",
    "import sys\n",
    "import warnings\n",
    "import matplotlib.pyplot as plt\n",
    "import matplotlib.colors as colors\n",
    "from matplotlib.patches import Ellipse \n",
    "from IPython.display import display, Markdown\n",
    "import numpy as np\n",
    "import os, glob\n",
    "from astropy.table import Table\n",
    "import astropy.coordinates as coord\n",
    "from scipy.special import gamma, gammaincinv\n",
    "\n",
    "afwDisplay.setDefaultBackend('matplotlib')"
   ]
  },
  {
   "cell_type": "markdown",
   "metadata": {},
   "source": [
    "Now we will define some functions, in advance, to do the actual surface photometry.  We will be focusing on galaxies, hence require a way to transform the thumbnail images into in-plane galaxy coordinates and a way to measure the light profiles in those coordinates."
   ]
  },
  {
   "cell_type": "code",
   "execution_count": null,
   "metadata": {},
   "outputs": [],
   "source": [
    "def mk_ell(imdata, xcen, ycen, pa, ell):    \n",
    "    '''\n",
    "    For reprojecting into elliptical coordinates.  Requires:\n",
    "        1.) Image data array\n",
    "        2.) Center x coordinate (pixels)\n",
    "        3.) Center y coordinate (pixels)\n",
    "        4.) Position angle (degrees)\n",
    "        5.) Ellipticity (1-b/a)\n",
    "    Returns a dictionary containing the following:\n",
    "        1.) xEll, x coordinates in inclined galaxy plane\n",
    "        2.) yEll, y coordinates in inclined galaxy plane\n",
    "        3.) ellRad, radius in inclined galaxy plane\n",
    "        4.) theta, angle in galaxy plane, starting 0 at PA and increasing CCW (radians)\n",
    "\n",
    "    For example, to plot the deprojected image, do e.g.:\n",
    "        plt.pcolormesh(xEll, yEll, image)\n",
    "        plt.imshow(ellRad, origin='bottom')\n",
    "    '''\n",
    "    dimx = imdata.shape[1]\n",
    "    dimy = imdata.shape[0]\n",
    "    if (dimy > dimx):\n",
    "        x = np.arange(1, dimy+1)\n",
    "        y = x.reshape(-1, 1)\n",
    "    else:\n",
    "        x = np.arange(1, dimx+1)\n",
    "        y = x.reshape(-1, 1)\n",
    "    # Currently written to start at PA and increase CCW (due north is 0 degrees)\n",
    "    xEll = (x - xcen)*np.cos(np.radians(pa+90)) + \\\n",
    "                (y - ycen)*np.sin(np.radians(pa+90))\n",
    "    yEll = -(x - xcen)*np.sin(np.radians(pa+90)) + \\\n",
    "                 (y - ycen)*np.cos(np.radians(pa+90))\n",
    "\n",
    "    ellRad = np.sqrt(xEll**2 + (yEll/(1-ell))**2)\n",
    "    theta = np.arctan2(yEll, xEll)\n",
    "    theta[theta < 0.] = theta[theta < 0.]+2.0*np.pi # Removing negative values\n",
    "    \n",
    "    ellipse = {'xEll': xEll,\n",
    "               'yEll': yEll,\n",
    "               'ellRad': ellRad,\n",
    "               'theta': theta}\n",
    "    \n",
    "    return ellipse"
   ]
  },
  {
   "cell_type": "code",
   "execution_count": null,
   "metadata": {},
   "outputs": [],
   "source": [
    "def surfbprof(imdata, maskdata, cen, pa, ell, bwidth, maxbin, iflag):\n",
    "    '''\n",
    "    Quickly does isophotal profiles of galaxy using image sections.  Requires:\n",
    "        - Image data array\n",
    "        - Mask data array (0 = not masked, > 0 is masked)\n",
    "        - Center coordinates (geom.PointI object)\n",
    "        - Position angle (degrees)\n",
    "        - Ellipticity (1-axial ratio)\n",
    "        - Bin width (must be pixels--works off image array)\n",
    "        - Maximum radius (must be pixels--works off image array)\n",
    "        - Flag for whether or not to correct for inclination (mu[i]*(1-ell))\n",
    "            -- 0 = don't correct, != 0 means correct\n",
    "    Returns a dictionary containing the following:\n",
    "        - Radius array (in pixels: 'rad')\n",
    "        - Mean surface brightness within elliptical annuli ('mean_I')\n",
    "        - Median surface brightness within elliptical annuli ('med_I')\n",
    "    '''\n",
    "    xcen_i = int(np.round(cen[0], 0)) # Converting to integer value\n",
    "    ycen_i = int(np.round(cen[1], 0)) # Converting to integer value\n",
    "    \n",
    "    if len(np.array([pa]))==1:\n",
    "        ellipse = mk_ell(imdata, xcen_i, ycen_i, pa, ell)\n",
    "        ellRad = ellipse['ellRad']\n",
    "        ellRad = ellRad[ : imdata.shape[0], : imdata.shape[1]]\n",
    "    \n",
    "    bins = np.arange(0.5*bwidth, maxbin+0.5*bwidth, bwidth)\n",
    "    phot_dict = {}\n",
    "    mean_i = np.zeros(len(bins))-999\n",
    "    med_i = np.zeros(len(bins))-999\n",
    "    for i in range(len(bins)):\n",
    "        # First shrinking image array to only needed size\n",
    "        minbin = bins[i]-0.5*bwidth\n",
    "        maxbin = bins[i]+0.5*bwidth\n",
    "        offset = int(np.round(maxbin+5)) # how far to grow the image box\n",
    "        imsec = imdata[ycen_i-offset : ycen_i+offset,\n",
    "                       xcen_i-offset : xcen_i+offset]\n",
    "        masksec = maskdata[ycen_i-offset : ycen_i+offset,\n",
    "                           xcen_i-offset : xcen_i+offset]\n",
    "        \n",
    "        if len(np.array([pa]))==1:\n",
    "            ellRadsec = ellRad[ycen_i-offset : ycen_i+offset,\n",
    "                               xcen_i-offset : xcen_i+offset]\n",
    "            want_sb = (ellRadsec >= minbin) & (ellRadsec < maxbin) & (masksec == 0)\n",
    "        else:\n",
    "            ellipse = mk_ell(imsec, offset, offset, pa[i], ell[i])\n",
    "            ellRad = ellipse['ellRad']\n",
    "            want_sb = (ellRad >= minbin) & (ellRad < maxbin) & (masksec == 0)\n",
    "            \n",
    "        # Ignore empty bins\n",
    "        if len(want_sb[want_sb]) == 0:\n",
    "            mean_i[i] = -999\n",
    "            med_i[i] = -999\n",
    "        else:\n",
    "            if iflag:\n",
    "                mean_i[i] = np.nanmean(imsec[want_sb]) * (1-ell)\n",
    "                med_i[i] = np.nanmedian(imsec[want_sb]) * (1-ell)\n",
    "            else:\n",
    "                mean_i[i] = np.nanmean(imsec[want_sb])\n",
    "                med_i[i] = np.nanmedian(imsec[want_sb])\n",
    "    \n",
    "    phot_dict['rad'] = bins\n",
    "    phot_dict['mean_I'] = mean_i\n",
    "    phot_dict['med_I'] = med_i\n",
    "    \n",
    "    return phot_dict"
   ]
  },
  {
   "cell_type": "code",
   "execution_count": null,
   "metadata": {},
   "outputs": [],
   "source": [
    "#Function from StackClub repo: Deblending/lsst_stack_deblender.ipynb to create RGB images \n",
    "#But the original make_lupton_rgb function seems to make galaxies more red than their global colours suggest\n",
    "#So here the we rescale the rgb channels manually \n",
    "\n",
    "from astropy.visualization import make_lupton_rgb\n",
    "from lsst.geom import Box2D\n",
    "\n",
    "def showRGB(image, bgr=\"gri\", ax=None, fp=None, figsize=(8,8), stretch=1, Q=10, scale=None):\n",
    "    \"\"\"Display an RGB color composite image with matplotlib.\n",
    "    \n",
    "    Parameters\n",
    "    ----------\n",
    "    image : `MultibandImage`\n",
    "        `MultibandImage` to display.\n",
    "    bgr : sequence\n",
    "        A 3-element sequence of filter names (i.e. keys of the exps dict) indicating what band\n",
    "        to use for each channel. If `image` only has three filters then this parameter is ignored\n",
    "        and the filters in the image are used.\n",
    "    ax : `matplotlib.axes.Axes`\n",
    "        Axis in a `matplotlib.Figure` to display the image.\n",
    "        If `axis` is `None` then a new figure is created.\n",
    "    fp: `lsst.afw.detection.Footprint`\n",
    "        Footprint that contains the peak catalog for peaks in the image.\n",
    "        If `fp` is `None` then no peak positions are plotted.\n",
    "    figsize: tuple\n",
    "        Size of the `matplotlib.Figure` created.\n",
    "        If `ax` is not `None` then this parameter is ignored.\n",
    "    stretch: int\n",
    "        The linear stretch of the image.\n",
    "    Q: int\n",
    "        The Asinh softening parameter.\n",
    "    scale: list of 3 floats (default: None)\n",
    "        Re-scales rgb channels  \n",
    "    \"\"\"\n",
    "    # If the image only has 3 bands, reverse the order of the bands to produce the RGB image\n",
    "    if len(image) == 3:\n",
    "        bgr = image.filters\n",
    "    # Extract the primary image component of each Exposure with the .image property, and use .array to get a NumPy array view.\n",
    "\n",
    "    \n",
    "    if scale is None:\n",
    "        \n",
    "        r_im = image[bgr[2]].array # numpy array for the r channel\n",
    "        g_im = image[bgr[1]].array # numpy array for the g channel\n",
    "        b_im = image[bgr[0]].array # numpy array for the b channel\n",
    "    \n",
    "    else:\n",
    "        ### manually re-scaling the images here \n",
    "        r_im = image[bgr[2]].array*scale[0]\n",
    "        g_im = image[bgr[1]].array*scale[1]\n",
    "        b_im = image[bgr[0]].array*scale[2]     \n",
    "    \n",
    "    rgb = make_lupton_rgb(image_r=r_im,  \n",
    "                          image_g=g_im,  \n",
    "                          image_b=b_im,  \n",
    "                          stretch=stretch, Q=Q)  # parameters used to stretch and scale the pixel values\n",
    "    if ax is None:\n",
    "        fig = plt.figure(figsize=figsize)\n",
    "        ax = fig.add_subplot(1,1,1)\n",
    "    \n",
    "    # Exposure.getBBox() returns a Box2I, a box with integer pixel coordinates that correspond to the centers of pixels.\n",
    "    # Matplotlib's `extent` argument expects to receive the coordinates of the edges of pixels, which is what\n",
    "    # this Box2D (a box with floating-point coordinates) represents.\n",
    "    integerPixelBBox = image[bgr[0]].getBBox()\n",
    "    bbox = Box2D(integerPixelBBox)\n",
    "    ax.imshow(rgb, interpolation='nearest', origin='lower', extent=(bbox.getMinX(), bbox.getMaxX(), bbox.getMinY(), bbox.getMaxY()))\n",
    "    if fp is not None:\n",
    "        for peak in fp.getPeaks():\n",
    "            ax.plot(peak.getIx(), peak.getIy(), \"bx\", mew=2)\n",
    "            "
   ]
  },
  {
   "cell_type": "markdown",
   "metadata": {},
   "source": [
    "## **Part 1: selecting a galaxy by coordinates**"
   ]
  },
  {
   "cell_type": "markdown",
   "metadata": {},
   "source": [
    "As detailed in other tutorials, first we need to set up a Butler based on the parameters we obtained in the previous section.  We do this by galaxy coordinates, looping through available imaging repositories.\n",
    "\n",
    "NOTE: currently this is built for HSC imaging data only."
   ]
  },
  {
   "cell_type": "code",
   "execution_count": null,
   "metadata": {},
   "outputs": [],
   "source": [
    "ra = 150.746062\n",
    "dec = 2.343061"
   ]
  },
  {
   "cell_type": "code",
   "execution_count": null,
   "metadata": {},
   "outputs": [],
   "source": [
    "pos = geom.SpherePoint(ra, dec, geom.degrees) # Using geom package for the galaxy coordinates\n",
    "hsc_repos = '/datasets/hsc/repo/rerun/' # Access HSC PDR2 re-processing repositories\n",
    "repo_dir_list = glob.glob(os.path.join(hsc_repos, 'DM-23243', 'OBJECT', '*'))\n",
    "print('Search repos...', repo_dir_list)\n",
    "\n",
    "for repo in repo_dir_list:\n",
    "    # First set up the Butler for the data repositories\n",
    "    butler = Butler(repo)\n",
    "    # The skyMap is used to locate image tracts and patches\n",
    "    skyMap = butler.get('deepCoadd_skyMap')    \n",
    "    tractList = skyMap.findAllTracts(pos)\n",
    "    # Only accept tracts that contain the galaxy coordinates\n",
    "    if not tractList:\n",
    "        continue\n",
    "    else:\n",
    "        tractInfo = tractList[0]\n",
    "        patchInfo = tractInfo.findPatch(pos)    \n",
    "        tract = tractInfo.getId() # This is now the tract number we want\n",
    "        patch = patchInfo.getIndex() # And this is the patch in the tract that we want\n",
    "        patchid = str(patch[0])+','+str(patch[1])\n",
    "        print('which repo? ', repo)\n",
    "        print('tract:', tract, ' patchID:', patchid)\n",
    "        break"
   ]
  },
  {
   "cell_type": "markdown",
   "metadata": {},
   "source": [
    "## **Part 2: loading in the galaxy thumbnails for analysis**"
   ]
  },
  {
   "cell_type": "markdown",
   "metadata": {},
   "source": [
    "Now we can try some surface photometry.  First we want to load in all of the relevant images.  In this case, we will get thumbnails for all five HSC photometric bands and place them into a dictionary, accessible by filter name."
   ]
  },
  {
   "cell_type": "markdown",
   "metadata": {},
   "source": [
    "NOTE: regarding photometric bands, the repository this notebook is using requires the photometric bands R2 and I2 (which are new filters that were used during HSC PDR2).  If you choose to use a different HSC repository and it throws an error, try switching these to filters 'HSC-I' and 'HSC-R' as in the commented out line below."
   ]
  },
  {
   "cell_type": "code",
   "execution_count": null,
   "metadata": {},
   "outputs": [],
   "source": [
    "bands = ['HSC-G', 'HSC-R2', 'HSC-I2', 'HSC-Z', 'HSC-Y']\n",
    "#bands = ['HSC-G', 'HSC-R', 'HSC-I', 'HSC-Z', 'HSC-Y']"
   ]
  },
  {
   "cell_type": "markdown",
   "metadata": {},
   "source": [
    "Now we will load in the images by taking cutouts.  This is done by establishing a bounding box of a given size, then using the Butler to access the 'deepCoadd_sub' object for the given tract, patch, and filters.  For this demonstration the bounding box size is hard-coded; you can use detection catalogues to estimate this size for a more general-purpose project."
   ]
  },
  {
   "cell_type": "code",
   "execution_count": null,
   "metadata": {},
   "outputs": [],
   "source": [
    "bwidth = 950\n",
    "cutout_size = geom.ExtentI(bwidth, bwidth)\n",
    "calexps = {}\n",
    "# First obtain position information regarding the bounding box. We'll use only the first band for convenience.\n",
    "wcs = butler.get(\"deepCoadd_wcs\", immediate=True,\n",
    "                 tract=tract, patch=patchid, filter=bands[0])\n",
    "xy = geom.PointI(wcs.skyToPixel(pos))\n",
    "bbox = geom.BoxI(xy - cutout_size//2, cutout_size)\n",
    "    \n",
    "for band in bands:\n",
    "    calexp = butler.get(\"deepCoadd_sub\",\n",
    "                        tract = tract, \n",
    "                        patch = patchid, \n",
    "                        filter = band,\n",
    "                        bbox = bbox, \n",
    "                        immediate = True)\n",
    "    calexps[band] = calexp"
   ]
  },
  {
   "cell_type": "markdown",
   "metadata": {},
   "source": [
    "We're going to grab the pixel scale in arcseconds for later (when we start things like calculating surface brightnesses)."
   ]
  },
  {
   "cell_type": "code",
   "execution_count": null,
   "metadata": {},
   "outputs": [],
   "source": [
    "pxScale = wcs.getPixelScale().asArcseconds()"
   ]
  },
  {
   "cell_type": "markdown",
   "metadata": {},
   "source": [
    "We can now use the methods attached to these as usual.  For example, we can grab the photometric zeropoint for our later surface photometry, and check that the photometric zeropoints are the same for all filters."
   ]
  },
  {
   "cell_type": "code",
   "execution_count": null,
   "metadata": {},
   "outputs": [],
   "source": [
    "magZp = calexps['HSC-I2'].getPhotoCalib().instFluxToMagnitude(1)\n",
    "for band in bands:\n",
    "    print('ZP for '+band+': ',calexps[band].getPhotoCalib().instFluxToMagnitude(1))"
   ]
  },
  {
   "cell_type": "markdown",
   "metadata": {},
   "source": [
    "Or we can access the image arrays and check that we found our target galaxy.\n",
    "\n",
    "(Here we are using the [afwDisplay package](https://github.com/LSSTScienceCollaborations/StackClub/blob/master/Visualization/AFW_Display_Demo.ipynb).)"
   ]
  },
  {
   "cell_type": "code",
   "execution_count": null,
   "metadata": {},
   "outputs": [],
   "source": [
    "fig, ax = plt.subplots(1,5, figsize=(15, 5))\n",
    "display = []\n",
    "for i in range(len(bands)):\n",
    "    plt.sca(ax[i])\n",
    "    afw_display = afwDisplay.Display(frame=fig)\n",
    "    display.append(afw_display)\n",
    "    display[i].scale(\"asinh\", \"zscale\")\n",
    "    display[i].setMaskTransparency(100)\n",
    "    display[i].mtv(calexps[bands[i]])\n",
    "    ax[i].set_title(bands[i])\n",
    "    ax[i].set_xticks([])\n",
    "    ax[i].set_yticks([])"
   ]
  },
  {
   "cell_type": "code",
   "execution_count": null,
   "metadata": {},
   "outputs": [],
   "source": [
    "filters = ['G', 'R2', 'I2', 'Z', 'Y']\n",
    "coadds = [calexps[\"HSC-{}\".format(f.upper())] for f in filters]\n",
    "coadds = MultibandExposure.fromExposures(filters, coadds)"
   ]
  },
  {
   "cell_type": "code",
   "execution_count": null,
   "metadata": {},
   "outputs": [],
   "source": [
    "fig, ax = plt.subplots(figsize=(20, 20), nrows=1, ncols=2)\n",
    "\n",
    "##original make_lupton_rgb without any scaling \n",
    "showRGB(coadds[:\"Y\"].image, ax=ax[0], bgr=filters, figsize=(10, 10), scale=None)\n",
    "ax[0].set_title('ORIGINAL')\n",
    "\n",
    "##make_lupton_rgb with scaled rgb channels (this notebook)\n",
    "ax[1].set_title('RE-SCALED')\n",
    "showRGB(coadds[:\"Y\"].image, ax=ax[1], bgr=filters, figsize=(10, 10), scale=[0.5, 0.7, 1.0])\n",
    "\n",
    "plt.axis('off')\n",
    "plt.show()"
   ]
  },
  {
   "cell_type": "code",
   "execution_count": null,
   "metadata": {},
   "outputs": [],
   "source": [
    "?calexps"
   ]
  },
  {
   "cell_type": "markdown",
   "metadata": {},
   "source": [
    "Everything looks to be in order, so now we can prepare the images for photometry."
   ]
  },
  {
   "cell_type": "markdown",
   "metadata": {},
   "source": [
    "## **Part 3: Masking unwanted sources**"
   ]
  },
  {
   "cell_type": "code",
   "execution_count": null,
   "metadata": {},
   "outputs": [],
   "source": [
    "from lsst.meas.algorithms import SourceDetectionTask\n",
    "#from lsst.meas.extensions.scarlet.deblend import ScarletDeblendTask\n",
    "from lsst.meas.base import SingleFrameMeasurementTask\n",
    "from lsst.afw.table import SourceCatalog"
   ]
  },
  {
   "cell_type": "markdown",
   "metadata": {},
   "source": [
    "First we will set up our deblender and detection tasks.  This is using the [lsst_stack_deblender tutorial](https://github.com/LSSTScienceCollaborations/StackClub/blob/master/Deblending/lsst_stack_deblender.ipynb) as a baseline, so see that page for more detailed information.  We'll use the I2-band for our detection, which in our images above looks to have a deep sensitivity, and falls in a red wavelength regime that should help pick out more high-redshift objects as well."
   ]
  },
  {
   "cell_type": "markdown",
   "metadata": {},
   "source": [
    "Now we'll set up our detection and deblending tasks (but we don't run them yet)."
   ]
  },
  {
   "cell_type": "code",
   "execution_count": null,
   "metadata": {},
   "outputs": [],
   "source": [
    "schema = SourceCatalog.Table.makeMinimalSchema() # Set up an empty schema\n",
    "\n",
    "# The source detection\n",
    "detectionConfig = SourceDetectionTask.ConfigClass()\n",
    "detectionConfig.thresholdValue = 3  # This is our detection threshold\n",
    "detectionConfig.thresholdType = \"stdev\" # Specifying we want it in standard deviations\n",
    "detectionTask = SourceDetectionTask(schema=schema) # Set up a detection task for the previous schema"
   ]
  },
  {
   "cell_type": "markdown",
   "metadata": {},
   "source": [
    "Now we'll run the detection task on the whole cutout to create the initial mask.  Primarily this will be for sky estimation, as it will include a mask for the galaxy itself.  We'll do this using the I2-band, which is the deepest image in the lot."
   ]
  },
  {
   "cell_type": "code",
   "execution_count": null,
   "metadata": {},
   "outputs": [],
   "source": [
    "detectionTable = SourceCatalog.Table.make(schema)\n",
    "detectionResult = detectionTask.run(detectionTable, calexps['HSC-I2']) # Using only I-band\n",
    "detectionCatalog = detectionResult.sources"
   ]
  },
  {
   "cell_type": "markdown",
   "metadata": {},
   "source": [
    "We'll use the coordinates of the calexp bounding box, along with the indexes and values of the footprints, to pinpoint the locations of the footprints on the image thumbnails.  The bounding box mininum is the lower-left corner of the thumbnail (indexes 0,0), so we just subtract that value from the footprint indices to find our coordinates in thumbnail image space.\n",
    "\n",
    "We'll also identify and then separate out the footprint that contains the galaxy we're interested in.  We do want to preserve this mask for a later step, that being the local sky background estimation (Part 4)."
   ]
  },
  {
   "cell_type": "code",
   "execution_count": null,
   "metadata": {},
   "outputs": [],
   "source": [
    "xy_begin = bbox.getMin()\n",
    "image_I2 = calexps['HSC-I2'].image.array\n",
    "mask = np.zeros(image_I2.shape) # Masking all detections, except galaxy of interest\n",
    "sky_mask = np.zeros(image_I2.shape) # Mask all detections, including galaxy of interest, for sky estimation\n",
    "atol = 50 # Requires a high number: the footprint centroid is not the galaxy centroid\n",
    "\n",
    "for j in range(len(detectionCatalog['id'])):\n",
    "    centroid = detectionCatalog[j].getFootprint().getCentroid()\n",
    "    \n",
    "    yind, xind = detectionCatalog[j].getFootprint().spans.indices()\n",
    "    new_yind = np.array(yind, dtype=int) - xy_begin[1] # yind, xind are lists, so we need to convert to do math\n",
    "    new_xind = np.array(xind, dtype=int) - xy_begin[0]    \n",
    "    sky_mask[new_yind, new_xind] = np.nan\n",
    "    \n",
    "    want1 = np.isclose(centroid[0], xy_begin[0]+bwidth//2, atol=atol)\n",
    "    want2 = np.isclose(centroid[1], xy_begin[1]+bwidth//2, atol=atol)\n",
    "    \n",
    "    if want1 & want2:\n",
    "        obj_ind = j\n",
    "        continue\n",
    "        \n",
    "    # Now setting all mask pixels to NaN\n",
    "    mask[new_yind, new_xind] = np.nan"
   ]
  },
  {
   "cell_type": "code",
   "execution_count": null,
   "metadata": {},
   "outputs": [],
   "source": [
    "# Checking that our resulting mask makes sense\n",
    "fig, ax = plt.subplots(figsize=(14, 7), nrows=1, ncols=3)\n",
    "ax[0].imshow(image_I2, norm=colors.LogNorm(), origin='bottom')\n",
    "ax[0].set_title('Original')\n",
    "ax[1].imshow(mask,  origin='bottom')\n",
    "ax[1].set_title('Mask')\n",
    "ax[2].imshow(sky_mask,  origin='bottom')\n",
    "ax[2].set_title('Mask for Sky Estimation')"
   ]
  },
  {
   "cell_type": "markdown",
   "metadata": {},
   "source": [
    "This shows that we can pick out pixels that belong to everything except the central galaxy and whatever surrounding galaxies are part of the same footprint (right panel) or that we can include the target galaxy mask as well (for background sky estimation, shown in the next section).  Of course, for a more correct mask we also want to include masks around sources overlapping the galaxy.  Because the current implementation of the deblender in the Stack is out of date, we're going to use the following package:\n",
    "\n",
    "https://github.com/herjy/scarlet_extensions\n",
    "\n",
    "To run this notebook from this point onward, you will need to do a git clone on this package in your working directory, then move the scarlet_extensions folder out from the newly created repository.  Also, this package requires SEP, a SExtractor protocol for Python.  This can be installed quite easily: pip install sep (however, make sure you do it in an LSST environment)."
   ]
  },
  {
   "cell_type": "markdown",
   "metadata": {},
   "source": [
    "The Scarlet deblending requires specifically a multiband exposure object to work with, so first we construct one of those."
   ]
  },
  {
   "cell_type": "code",
   "execution_count": null,
   "metadata": {},
   "outputs": [],
   "source": [
    "# Multiband exposures need a list of images and filters\n",
    "coadds = [calexps[band] for band in bands[:3]] # Using only the first three filters\n",
    "coadds = MultibandExposure.fromExposures(bands[:3], coadds)"
   ]
  },
  {
   "cell_type": "markdown",
   "metadata": {},
   "source": [
    "And now we import the required packages for this deblending step."
   ]
  },
  {
   "cell_type": "code",
   "execution_count": null,
   "metadata": {},
   "outputs": [],
   "source": [
    "import scarlet\n",
    "import scarlet.display\n",
    "import lsst.meas.extensions.scarlet as mes\n",
    "from scarlet_extensions.initialization import detection as det"
   ]
  },
  {
   "cell_type": "code",
   "execution_count": null,
   "metadata": {},
   "outputs": [],
   "source": [
    "images = coadds.image.array\n",
    "seg_catalog, bg_rms = det.makeCatalog(images)"
   ]
  },
  {
   "cell_type": "markdown",
   "metadata": {},
   "source": [
    "The object `seg_catalog` is a SExtactor table (use `seg_catalog.dtype` to see the names of the table elements), including position, position angle, and ellipticity estimates.  So we can easily check the output of this segmentation by plotting the output ellipses on the galaxy image."
   ]
  },
  {
   "cell_type": "code",
   "execution_count": null,
   "metadata": {},
   "outputs": [],
   "source": [
    "from matplotlib.patches import Ellipse\n",
    "\n",
    "# Plot first the background-subtracted image\n",
    "fig, ax = plt.subplots(figsize=(12,12))\n",
    "im = ax.imshow(image_I2, norm=colors.LogNorm(), origin='bottom', cmap='Greys')\n",
    "\n",
    "# Then plot an ellipse for each deblender detection\n",
    "# Colors are randomized to aid in visibility\n",
    "for i in range(len(seg_catalog)):\n",
    "    e = Ellipse(xy=(seg_catalog['x'][i], seg_catalog['y'][i]),\n",
    "                width=20*seg_catalog['a'][i],\n",
    "                height=20*seg_catalog['b'][i],\n",
    "                angle=seg_catalog['theta'][i] * 180. / np.pi, \n",
    "                lw=2)\n",
    "\n",
    "    color = list(np.random.uniform(size=3))\n",
    "    color.append(0.5)\n",
    "    e.set_facecolor(color)\n",
    "    e.set_edgecolor(color)\n",
    "    ax.add_artist(e)\n",
    "    \n",
    "plt.axis('off')\n",
    "\n",
    "ax.plot(seg_catalog['x'], seg_catalog['y'], 'k.', markersize=5)"
   ]
  },
  {
   "cell_type": "code",
   "execution_count": null,
   "metadata": {},
   "outputs": [],
   "source": [
    "#Alternatively, use sep to create masks of each source using its measured \n",
    "#elliptical parameters\n",
    "\n",
    "import sep \n",
    "\n",
    "mask_objects = np.zeros(image_I2.shape)\n",
    "ellipse_mask_objects = np.zeros(image_I2.shape, dtype=np.bool)\n",
    "sep.mask_ellipse(ellipse_mask_objects, seg_catalog['x'], seg_catalog['y'], seg_catalog['a'], seg_catalog['b'],\n",
    "                 seg_catalog['theta'], r=10.)\n",
    "\n",
    "mask_objects[ellipse_mask_objects] = np.nan \n",
    "\n",
    "fig, ax = plt.subplots(figsize=(8,8))\n",
    "#im = ax.imshow(image_I2, norm=colors.LogNorm(), origin='bottom')\n",
    "\n",
    "im = ax.imshow(mask_objects, origin='bottom')\n",
    "\n",
    "loc = ax.plot(seg_catalog['x'], seg_catalog['y'], 'k.', markersize=5)\n",
    "axoff = plt.axis('off')"
   ]
  },
  {
   "cell_type": "markdown",
   "metadata": {},
   "source": [
    "## **Part 4: Sky Background Estimation**"
   ]
  },
  {
   "cell_type": "markdown",
   "metadata": {},
   "source": [
    "In order to do accurate surface photometry, we need an estimate of the local background, to correct for over- or under-subtraction of the sky local to the galaxy.  We will do this using a fairly traditional method, by determining the mean values in a sample of equal-area boxes containing unmasked pixels.  We distribute these boxes randomly in position about the cutout, rejecting boxes if they contain more than 50% masked pixels."
   ]
  },
  {
   "cell_type": "code",
   "execution_count": null,
   "metadata": {},
   "outputs": [],
   "source": [
    "from astropy.stats import sigma_clipped_stats\n",
    "meanflux_I2 = np.zeros(1000)\n",
    "sky_pixels = sky_mask + image_I2\n",
    "\n",
    "# Setting up random state for box distribution\n",
    "local_state = np.random.RandomState(2)\n",
    "dim2, dim1 = sky_pixels.shape # Need to keep boxes within the image cutout\n",
    "# Sky box size will be 100 x 100 pixels\n",
    "length = 100\n",
    "height = 100\n",
    "for k in range(0, 1000):    \n",
    "    xc, yc = local_state.randint(low=101, high=dim1-101, size=2)\n",
    "    # Ensuring the boxes land fully within the image cutout\n",
    "    x0 = np.round(xc-length//2)\n",
    "    x1 = np.round(xc+length//2)\n",
    "    y0 = np.round(yc-height//2)\n",
    "    y1 = np.round(yc+height//2) \n",
    "    \n",
    "    if x0 < 0: x0 = 0\n",
    "    if x1 > dim1: x1 = dim1-1\n",
    "    if y0 < 0: y0 = 0\n",
    "    if y1 > dim2: y1 = dim2-1\n",
    "        \n",
    "    pixels = sky_pixels[y0:y1,x0:x1]    \n",
    "    if len(np.isfinite(pixels)[np.isfinite(pixels)]) < 0.5*len(pixels):\n",
    "        meanflux_I2[k] = np.nan\n",
    "        continue    \n",
    "    meanflux_I2[k] = np.nanmean(np.ravel(pixels))\n",
    "\n",
    "stats = sigma_clipped_stats(meanflux_I2[~np.isnan(meanflux_I2)], sigma=3.0)\n",
    "mean_sky_I2 = stats[1]\n",
    "sigma_I2_sky = stats[2]\n",
    "print('mean background value: ', mean_sky_I2)\n",
    "print('std: ', sigma_I2_sky )"
   ]
  },
  {
   "cell_type": "markdown",
   "metadata": {},
   "source": [
    "From this, we can see that the background value beyond the galaxy is close to 0 in these units.  From our quick check above, we can see what the standard deviation is in surface brightness, which will give us a rough estimate of the depth of this image (the I2 band) down to the noise limit.  We'll use our magnitude zeropoint and pixel scale that we grabbed much earlier."
   ]
  },
  {
   "cell_type": "code",
   "execution_count": null,
   "metadata": {},
   "outputs": [],
   "source": [
    "mu_lim_I2 = -2.5*np.log10(sigma_I2_sky) + magZp + 2.5*np.log10(pxScale**2)\n",
    "print('Limiting surface brightness in I-band is: {:.2f} mag/arcsec^2'.format(mu_lim_I2))"
   ]
  },
  {
   "cell_type": "markdown",
   "metadata": {},
   "source": [
    "## **Part 5: Surface brightness profiles**"
   ]
  },
  {
   "cell_type": "markdown",
   "metadata": {},
   "source": [
    "Now that we have appropriate masks, we can create surface brightness profiles of the galaxy. \n",
    "We need the measured elliptical parameters for the galaxy (to characterise its global 2D shape) to compute the average brightness within elliptical annuli increasing in distance from the center of the galaxy. We visualise how this is computed below."
   ]
  },
  {
   "cell_type": "markdown",
   "metadata": {},
   "source": [
    "First we need to elliptical parameters of the object.  We'll do this visually, so our initial guess is position angle of 150 degrees, and axial ratio of 0.9:"
   ]
  },
  {
   "cell_type": "code",
   "execution_count": null,
   "metadata": {},
   "outputs": [],
   "source": [
    "cen = (image_I2.shape[1]//2, image_I2.shape[0]//2)\n",
    "PA = 150\n",
    "q = 0.9\n",
    "size = 500 \n",
    "\n",
    "ellipse = Ellipse(xy=cen, width=size, height=size*q, angle= PA,\\\n",
    "                  edgecolor='red', fc='None', lw=2, zorder = 2)\n",
    "\n",
    "plt.figure(figsize=(8,8))\n",
    "plt.imshow(image_I2, norm=colors.LogNorm(), origin='bottom')\n",
    "plt.gca().add_patch(ellipse)\n",
    "\n",
    "plt.show()"
   ]
  },
  {
   "cell_type": "code",
   "execution_count": null,
   "metadata": {},
   "outputs": [],
   "source": [
    "image_source_and_sky = image_I2 + mask\n",
    "\n",
    "def to_mags(phot_dict, magZp=magZp):\n",
    "    scale_term = 2.5*np.log10(pxScale**2)\n",
    "    intens = phot_dict['mean_I'] # Using mean for now; median likely similar\n",
    "    mu = -2.5*np.log10(intens) + magZp + scale_term\n",
    "    rad = phot_dict['rad']*pxScale # Radius returned in arcseconds\n",
    "    \n",
    "    mu[~np.isfinite(mu)] = 999\n",
    "    \n",
    "    return mu, rad\n",
    "    \n",
    "photometry = {}\n",
    "phot_dict = surfbprof(image_source_and_sky - mean_sky_I2, # Using only the model+sky subtraction\n",
    "                      image_I2*0.0, \n",
    "                      cen, \n",
    "                      PA, \n",
    "                      1-q,\n",
    "                      2, image_I2.shape[0]//2-1, iflag=0)\n",
    "\n",
    "photometry['HSC-I2'] = phot_dict\n",
    "\n",
    "photometry['HSC-I2']['mu'], photometry['HSC-I2']['rad_as'] = to_mags(photometry['HSC-I2'])"
   ]
  },
  {
   "cell_type": "code",
   "execution_count": null,
   "metadata": {},
   "outputs": [],
   "source": [
    "photo_I2 = photometry['HSC-I2']\n",
    "rad = photo_I2['rad']\n",
    "sb = photo_I2['mu']\n",
    "\n",
    "##Geimage (working with HSC g band)\n",
    "fig, ax = plt.subplots(figsize=(21,7), nrows=1, ncols=3)\n",
    "\n",
    "ax[0].imshow(image_I2, norm=colors.LogNorm(), origin='bottom')\n",
    "ax[0].set_xlabel('X [pixels]', fontsize=20)\n",
    "ax[0].set_ylabel('Y [pixels]', fontsize=20)\n",
    "\n",
    "ax[1].imshow(image_I2, norm=colors.LogNorm(), origin='bottom')\n",
    "ax[1].set_xlabel('X [pixels]', fontsize=20)\n",
    "ax[1].set_ylabel('Y [pixels]', fontsize=20)\n",
    "\n",
    "# Now plot a handful of bins to demonstrate isophotes\n",
    "bins = np.logspace(0.0, np.log10(500.0), num=10)\n",
    "\n",
    "for k in range(0, len(bins)):\n",
    "    # Plot ellipse at each radius in red\n",
    "    ellipse = Ellipse(xy=cen, width=bins[k], height=bins[k]*q, angle= PA,\\\n",
    "                      edgecolor='red', fc='None', lw=2, zorder = 2)\n",
    "\n",
    "    ax[1].add_patch(ellipse)\n",
    "    \n",
    "# Finally, plotting resulting surface brightness profile \n",
    "mu_bins = np.linspace(23, 34, num=10)\n",
    "\n",
    "ax[2].plot(rad, sb, 'k.')\n",
    "ax[2].set_ylim(16, 30)\n",
    "ax[2].set_xlim(0, 400)\n",
    "\n",
    "for i in range(0, len(bins)):\n",
    "    ax[2].plot(np.ones(len(mu_bins))*bins[i], mu_bins, 'r--')\n",
    "\n",
    "ax[2].invert_yaxis()\n",
    "#ax[2].legend(loc='best', fontsize=20)\n",
    "ax[2].set_ylabel(r'$\\mu_I2$ [mag/arcsec$^2$]', fontsize=20)\n",
    "ax[2].set_xlabel('radius [pixels]', fontsize=20)\n",
    "plt.show()"
   ]
  },
  {
   "cell_type": "markdown",
   "metadata": {},
   "source": [
    "(Following may change on application of masks, but taking the risk.)\n",
    "The left panel shows the galaxy in a log scale.  The central panel shows the same, but with a handful of ellipses marking the isophote shapes we are using the calculate the surface brightness profile.  Finally, the actual surface brightness profile is shown in the rightmost panel.\n",
    "\n",
    "We can see it has a fairly typical barred galaxy profile: a bulge in the center, a slight depression around 30 pixels where the bar's unstable Lagrange points have cleared out the stellar populations, humps demarcating the inner and outer rings, and a generally exponential decline.  We note that around 250 pixels in radius, however, there is a drastic decline in surface brightness.  This occurs well above the noise limit we calculated earlier (closer to 26.5 than to the ~28.5 limit from the background scatter), implying either a sharp disk truncation, or a systematic oversubtraction during the image reduction."
   ]
  },
  {
   "cell_type": "code",
   "execution_count": null,
   "metadata": {},
   "outputs": [],
   "source": []
  }
 ],
 "metadata": {
  "kernelspec": {
   "display_name": "LSST",
   "language": "python",
   "name": "lsst"
  },
  "language_info": {
   "codemirror_mode": {
    "name": "ipython",
    "version": 3
   },
   "file_extension": ".py",
   "mimetype": "text/x-python",
   "name": "python",
   "nbconvert_exporter": "python",
   "pygments_lexer": "ipython3",
   "version": "3.7.6"
  }
 },
 "nbformat": 4,
 "nbformat_minor": 4
}
